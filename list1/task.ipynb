{
 "cells": [
  {
   "cell_type": "markdown",
   "metadata": {},
   "source": [
    "# Lista 1\n",
    "\n",
    "## Kurs wybranego języka programowania (Python)\n",
    "\n",
    "Wszystkie rozwiązania proszę wpisać w tym notatniku poniżej treści zadań. Zadania z `*` to zadania dodatkowe."
   ]
  },
  {
   "cell_type": "markdown",
   "metadata": {},
   "source": [
    "## Zadanie 1 _(5pt)_\n",
    "\n",
    "Napisz funkcję, który wyświetla trójkąt Pascala o zadanej wysokości\n",
    "```\n",
    "                1\n",
    "              1   1\n",
    "            1   2   1\n",
    "          1   3   3   1\n",
    "        1   4   6   4   1\n",
    "      .....................\n",
    "```"
   ]
  },
  {
   "cell_type": "code",
   "execution_count": 65,
   "metadata": {},
   "outputs": [
    {
     "name": "stdout",
     "output_type": "stream",
     "text": [
      "                                                        1  \n",
      "                                                     1     1  \n",
      "                                                  1     2     1  \n",
      "                                               1     3     3     1  \n",
      "                                            1     4     6     4     1  \n",
      "                                         1     5    10    10     5     1  \n",
      "                                      1     6    15    20    15     6     1  \n",
      "                                   1     7    21    35    35    21     7     1  \n",
      "                                1     8    28    56    70    56    28     8     1  \n",
      "                             1     9    36    84    126   126   84    36     9     1  \n",
      "                          1    10    45    120   210   252   210   120   45    10     1  \n",
      "                       1    11    55    165   330   462   462   330   165   55    11     1  \n",
      "                    1    12    66    220   495   792   924   792   495   220   66    12     1  \n",
      "                 1    13    78    286   715  1287  1716  1716  1287   715   286   78    13     1  \n",
      "              1    14    91    364  1001  2002  3003  3432  3003  2002  1001   364   91    14     1  \n",
      "           1    15    105   455  1365  3003  5005  6435  6435  5005  3003  1365   455   105   15     1  \n",
      "        1    16    120   560  1820  4368  8008  11440 12870 11440 8008  4368  1820   560   120   16     1  \n",
      "     1    17    136   680  2380  6188  12376 19448 24310 24310 19448 12376 6188  2380   680   136   17     1  \n"
     ]
    }
   ],
   "source": [
    "import math\n",
    "\n",
    "\n",
    "def pascal_triangle(n):\n",
    "    triangle = [[1] for i in range(n)]\n",
    "    for i in range(1, n):\n",
    "        for j in range(1, i + 1):\n",
    "            if (i == j):\n",
    "                triangle[i].append(1)\n",
    "            else:\n",
    "                triangle[i].append(triangle[i-1][j-1] + triangle[i-1][j])\n",
    "    max_value = triangle[n - 1][n // 2]\n",
    "    value_size = int(math.log(max_value, 10) + 1)\n",
    "    for i in range(n):\n",
    "        space_length = (1 + value_size) * (n - i) // 2\n",
    "        for j in range(space_length):\n",
    "            print(' ', end='')\n",
    "        print(' '.join('{0:^{1}}'.format(k, value_size) for k in triangle[i]))\n",
    "\n",
    "\n",
    "pascal_triangle(18)"
   ]
  },
  {
   "cell_type": "markdown",
   "metadata": {},
   "source": [
    "## Zadanie 2 _(5pt)_\n",
    "\n",
    "Napisz funkcję `primes(n)` zwracająca listę liczb pierwszych nie większych niż $n$ np.\n",
    "\n",
    "```\n",
    "In [ ]:   primes(6)\n",
    "Out [ ]: [2, 3, 5]\n",
    "```"
   ]
  },
  {
   "cell_type": "code",
   "execution_count": 2,
   "metadata": {},
   "outputs": [
    {
     "data": {
      "text/plain": [
       "[2, 3, 5, 7, 11, 13, 17, 19, 23, 29, 31, 37, 41, 43, 47, 53, 59, 61, 67, 71]"
      ]
     },
     "execution_count": 2,
     "metadata": {},
     "output_type": "execute_result"
    }
   ],
   "source": [
    "import math\n",
    "\n",
    "def primes(n):\n",
    "    primes = [i for i in range(2, n + 1)]\n",
    "    sqrt = int(math.sqrt(n + 1))\n",
    "    for i in range(2, sqrt + 1):\n",
    "        for j in range(2 * i, n + 1, i):\n",
    "            try:\n",
    "                primes.remove(j)\n",
    "            except ValueError:\n",
    "                pass\n",
    "    return primes\n",
    "\n",
    "\n",
    "primes(71)"
   ]
  },
  {
   "cell_type": "markdown",
   "metadata": {},
   "source": [
    "## Zadanie 3 _(5pt)_\n",
    "\n",
    "Napisz funkcje, która usuwa wszystkie powtarzające się elementy z listy (tak, że każdy element występuje tylko raz) np. z listy `[1,1,2,2,2,3,3,5,5,5,4,4,4,0]` dostajemy `[1,2,3,5,4,0]`."
   ]
  },
  {
   "cell_type": "code",
   "execution_count": 80,
   "metadata": {},
   "outputs": [
    {
     "data": {
      "text/plain": [
       "[0, 1, 2, 3, 4, 5]"
      ]
     },
     "execution_count": 80,
     "metadata": {},
     "output_type": "execute_result"
    }
   ],
   "source": [
    "def clear_duplicate(list_to_clear):\n",
    "    return list(set(list_to_clear))\n",
    "\n",
    "\n",
    "list_to_clear = [1, 1, 2, 2, 2, 3, 3, 5, 5, 5, 4, 4, 4, 0]\n",
    "clear_duplicate(list_to_clear)"
   ]
  },
  {
   "cell_type": "markdown",
   "metadata": {},
   "source": [
    "## Zadanie 4 _(10pt)_\n",
    "\n",
    "Napisz funkcję `prime_factors(n)`, która rozkłada $n$ na czynniki pierwsze i jako wynik wraca listę par $[(p_1,\\alpha_1), (p_2,\\alpha_2), \\ldots, (p_k, \\alpha_k)]$ taką, że $p_1^{\\alpha_1}p_2^{\\alpha_2}\\ldots p_k^{\\alpha_k}$.\n"
   ]
  },
  {
   "cell_type": "code",
   "execution_count": 3,
   "metadata": {},
   "outputs": [
    {
     "data": {
      "text/plain": [
       "[(2, 1), (3, 2), (5, 1)]"
      ]
     },
     "execution_count": 3,
     "metadata": {},
     "output_type": "execute_result"
    }
   ],
   "source": [
    "def prime_factors(n):\n",
    "    factors = []\n",
    "    for prime in primes(n):\n",
    "        counter = 0\n",
    "        while True:\n",
    "            if n % prime != 0:\n",
    "                break\n",
    "            n /= prime\n",
    "            counter += 1\n",
    "        if counter != 0:\n",
    "            factors.append((prime, counter))\n",
    "    return factors\n",
    "\n",
    "\n",
    "prime_factors(90)        "
   ]
  },
  {
   "cell_type": "markdown",
   "metadata": {},
   "source": [
    "## Zadanie 5 _(10pt)_\n",
    "\n",
    "Napisz funkcję `fraczero(n)` liczącą silnie $n!$ dla $n$ od $0$ do $10000$ oraz jako wynik wraca liczbę zer na końcu $n!$."
   ]
  },
  {
   "cell_type": "code",
   "execution_count": 20,
   "metadata": {},
   "outputs": [
    {
     "name": "stdout",
     "output_type": "stream",
     "text": [
      "2499\n",
      "2499\n"
     ]
    }
   ],
   "source": [
    "def fraczero1(n):\n",
    "    if not (0 <= n <= 10_000):\n",
    "        raise ValueError(\"Incomprehensible expression.\")\n",
    "    zeros = 0\n",
    "    while n != 0:\n",
    "        n //= 5;\n",
    "        zeros += n;\n",
    "    return zeros\n",
    "\n",
    "\n",
    "import math\n",
    "\n",
    "def fraczero2(n):\n",
    "    if not (0 <= n <= 10_000):\n",
    "        raise ValueError(\"Incomprehensible expression.\")\n",
    "    factorial = str(math.factorial(n))\n",
    "    return len(factorial) - len(factorial.rstrip('0'))\n",
    "\n",
    "print(fraczero1(10_000))\n",
    "print(fraczero2(10_000))"
   ]
  },
  {
   "cell_type": "markdown",
   "metadata": {},
   "source": [
    "## Zadanie 6 _(10pt)_\n",
    "\n",
    "Napisz program, który generuje liczbę $20$ liczb losowych (rozkład jednostajny) od $1$ do $100$\n",
    "* Wyświetl listę wygenerowanych liczb\n",
    "* Wyświetl średnią\n",
    "* Wyświetl największą i najmniejszą wartość\n",
    "* Wyświetl drugą największą i drugą najmniejszą wartość na liście\n",
    "* Wyświetl ile jest liczb parzystych na liście\n",
    " "
   ]
  },
  {
   "cell_type": "code",
   "execution_count": 9,
   "metadata": {},
   "outputs": [
    {
     "name": "stdout",
     "output_type": "stream",
     "text": [
      "List: [53, 74, 15, 70, 93, 63, 16, 10, 41, 10, 10, 46, 37, 41, 51, 95, 68, 100, 31, 27]\n",
      "Average: 47.55\n",
      "First max: 100\n",
      "Second max: 95\n",
      "Second min: 15\n",
      "First min: 10\n",
      "Even: 9\n"
     ]
    }
   ],
   "source": [
    "def stats():\n",
    "    import random\n",
    "    numbers = [random.randrange(1, 101) for i in range(20)]\n",
    "    print(f\"List: {numbers}\")\n",
    "    print(f\"Average: {sum(numbers) / len(numbers)}\")\n",
    "    first_max = max(numbers)\n",
    "    first_min = min(numbers)\n",
    "    print(f\"First max: {first_max}\")\n",
    "    print(f\"Second max: {max([number for number in numbers if number != first_max])}\")\n",
    "    print(f\"Second min: {min([number for number in numbers if number != first_min])}\")\n",
    "    print(f\"First min: {first_min}\")\n",
    "    print(f\"Even: {len([number for number in numbers if number % 2 == 0])}\")\n",
    "    \n",
    "#    for number in numbers:\n",
    "#        if second_max < number != first_max:\n",
    "#            second_max = number\n",
    "#        if second_min > number != first_min:\n",
    "#            second_min = number\n",
    "#        if number % 2 == 0:\n",
    "#            even += 1 \n",
    "    \n",
    "stats()"
   ]
  },
  {
   "cell_type": "markdown",
   "metadata": {},
   "source": [
    "## Zadanie 7 _(10pt)_\n",
    "\n",
    "Załóżmy, że mamy następującą listę: `L = ['aababacaa', 'cabaabcca', 'aaabbcbacb', 'acababbaab', ...]` wygenerowaną losowo tzn. lista zawiera losowe ciągi znaków o zadanej długości z liter `'a'`, `'b'` i `'c'`. Takie wzorce występują w wielu miejscach np. sekwencje DNA. Użytkownik zawiera swój (wzorzec) ciąg znaków z literami i pustymi miejscami oznaczonymi przez `'*'` np. `\"a**a******\"`. Wykorzystaj słownik z kluczami zawierającymi indeksy znaków różnych od `'*'` i wartościami liter z wzorca. Napisz program, który znajduje wszystkie sekwencje z listy, które pasuje do podanego wzorca."
   ]
  },
  {
   "cell_type": "code",
   "execution_count": 39,
   "metadata": {},
   "outputs": [
    {
     "name": "stdout",
     "output_type": "stream",
     "text": [
      "['cabbaabddbbba', 'dcdbbddcabbaa', 'bbacdcdbcbdbb', 'bbbaadabbcabcb', 'badcdddaadbca', 'ddbcccbbbdbcbbaa', 'dccaadaadbcddad', 'bccaaaadbbabddb', 'cdbbbcbabadaaabd', 'bbaaadad', 'bcdcdcbbddcd', 'dbbcaadacadbcacb', 'dbcddbbddadbdda', 'ddbcbdaabccc', 'bbbdbaabcda', 'bbabadcd', 'aaccdaaaa', 'aabdaccbdbbccc', 'bdbbcabcccc', 'dddadddaabaa']\n"
     ]
    },
    {
     "data": {
      "text/plain": [
       "[]"
      ]
     },
     "execution_count": 39,
     "metadata": {},
     "output_type": "execute_result"
    }
   ],
   "source": [
    "import random\n",
    "\n",
    "letters = ['a', 'b', 'c', 'd']\n",
    "min_lenght = 8\n",
    "max_lenght = 16\n",
    "amount = 20\n",
    "L = [''.join(random.choice(letters)\n",
    "                     for j in range(random.randrange(min_lenght, max_lenght + 1))) for i in range(amount)]\n",
    "print(L)\n",
    "\n",
    "def find_fit(pattern, sequences):\n",
    "    pattern_dict = {i: char for i, char in enumerate(pattern) if char != '*'}\n",
    "    fitting_sequences = []\n",
    "    for sequence in L:\n",
    "        if len(pattern) > len(sequence):\n",
    "            continue\n",
    "        fit = True\n",
    "        for i, char in pattern_dict.items():\n",
    "            if char != sequence[i]:\n",
    "                fit = False\n",
    "                break\n",
    "        if fit:\n",
    "            fitting_sequences.append(sequence)\n",
    "    return fitting_sequences\n",
    "    \n",
    "find_fit(\"*a**b*\", L)"
   ]
  },
  {
   "cell_type": "markdown",
   "metadata": {},
   "source": [
    "## Zadanie 8 _(10pt)_\n",
    "\n",
    "Napisz program, który konwerteruje liczby rzymskie na liczby arabskie. Do zapisu liczb rzymskich używa\n",
    "się 7 liter: `I=1`, `V=5`, `X=10`, `L=50`, `C=100`, `D=500`, `M=1000`. Opis algorytmu zamiany z i na system rzymski można znaleźć np. [tutaj](http://www.algorytm.org/algorytmy-arytmetyczne/zamiana-z-i-na-system-rzymski.html)"
   ]
  },
  {
   "cell_type": "code",
   "execution_count": 191,
   "metadata": {},
   "outputs": [
    {
     "name": "stdout",
     "output_type": "stream",
     "text": [
      "3988\n"
     ]
    }
   ],
   "source": [
    "roman_numbers = [\"I\", \"IV\", \"V\", \"IX\", \"X\", \"XL\", \"L\", \"XC\", \"C\", \"CD\", \"D\", \"CM\", \"M\"]\n",
    "arabic_numbers = [900, 500, 400, 100, 90, 50, 40, 10, 9, 5, 4, 1, 0, 0, 0]\n",
    "\n",
    "\n",
    "def roman_to_arabic(roman):\n",
    "    arabic = 0\n",
    "    m = 0\n",
    "    n = 0\n",
    "    j = 1000\n",
    "    i = 0\n",
    "    while i < 13:\n",
    "        if i % 4 == 0:\n",
    "            while n != 3 and m + 1 <= len(roman) and roman[m: m + 1] == roman_numbers[12 - i]:\n",
    "                arabic += j\n",
    "                m += 1\n",
    "                n += 1\n",
    "            n = 0\n",
    "        elif i % 2 == 0 and m + 1 <= len(roman) and roman[m: m + 1] == roman_numbers[12 - i]:\n",
    "            arabic += j\n",
    "            m += 1\n",
    "            i += 1\n",
    "        elif m + 2 <= len(roman) and roman[m: m + 2] == roman_numbers[12 - i]:\n",
    "            arabic += j\n",
    "            m += 2\n",
    "            i += 3\n",
    "        j = arabic_numbers[i]\n",
    "        i += 1\n",
    "    if m == len(roman):\n",
    "        return arabic\n",
    "    else:\n",
    "        raise ValueError(f\"Cannot convert {roman} to arabic number.\")\n",
    "\n",
    "\n",
    "print(roman_to_arabic(\"MMMCMLXXXVIII\"))"
   ]
  },
  {
   "cell_type": "markdown",
   "metadata": {},
   "source": [
    "## Zadanie 9* _(5pt)_\n",
    "\n",
    "Napisz program kalkulator, który pobiera wprowadzone wartości oraz funkcje z klawiatury następnie podaje wynik. W przypadku błędnych danych zgłasza błąd.\n",
    "\n",
    "Przykładowa sesja:\n",
    "```\n",
    "    Kalkulator\n",
    "    [1]: 2+5*10\n",
    "        52\n",
    "    [2]: sin(0.5)+cos(0.3)\n",
    "        1.434762027729809\n",
    "    [3]: 2^100\n",
    "        1267650600228229401496703205376\n",
    "```\n",
    "\n",
    "Przykładowy kod pobierania danych od użytkownika:\n",
    "\n",
    "```\n",
    "    x = input('Podaj x = ')\n",
    "```"
   ]
  },
  {
   "cell_type": "code",
   "execution_count": null,
   "metadata": {},
   "outputs": [
    {
     "name": "stdout",
     "output_type": "stream",
     "text": [
      ">> sin(pi)\n",
      "= 1.2246467991473532e-16\n",
      ">> sin(0)\n",
      "= 0.0\n"
     ]
    }
   ],
   "source": [
    "from math import *\n",
    "import sys\n",
    "\n",
    "\n",
    "def calculator():\n",
    "    while True:\n",
    "        try:\n",
    "            expression = input('>> ')\n",
    "            if expression == 'exit':\n",
    "                print('Exit.')\n",
    "                break\n",
    "            print(\"= \" + str(eval(expression.replace('^', '**'))))\n",
    "        except Exception:\n",
    "            print(\"Incomprehensible expression.\", file=sys.stderr)\n",
    "            \n",
    "calculator()"
   ]
  },
  {
   "cell_type": "markdown",
   "metadata": {},
   "source": [
    "\n",
    "## Zadanie 10* _(10pt)_\n",
    "\n",
    "Napisz program, który rysuje na ekranie w trybie znakowym wykres funkcji zmiennej $x$. Wskazówka: utwórz  ,,tablicę dwuwymiarową'' o wymiarach 80x24 i narysuj wykres w tej tablicy. Następnie wynik wyświetl na ekranie.\n",
    "\n",
    "```\n",
    "        Podaj funkcje f(x) = sin(x)\n",
    "        Podaj początek przedziału a = -pi\n",
    "        Podaj koniec przedziału b = pi\n",
    "                                                |\n",
    "                                                |\n",
    "                                                |              ***********\n",
    "                                                |           ***           ***\n",
    "                                                |         **                 **\n",
    "                                                |        *                     *\n",
    "                                                |      **                       **\n",
    "                                                |     *                           *\n",
    "                                                |   **                             **\n",
    "                                                |  *                                 *\n",
    "                                                | *                                   *\n",
    "                                                |*                                     *\n",
    "        ----------------------------------------|---------------------------------------\n",
    "          *                                   * |\n",
    "           *                                 *  |\n",
    "            **                             **   |\n",
    "              *                           *     |\n",
    "               **                       **      |\n",
    "                 *                     *        |\n",
    "                  **                 **         |\n",
    "                    ***           ***           |\n",
    "                       ***** *****              |\n",
    "                            *                   |\n",
    "                                                |\n",
    "```"
   ]
  },
  {
   "cell_type": "code",
   "execution_count": 15,
   "metadata": {},
   "outputs": [
    {
     "name": "stdout",
     "output_type": "stream",
     "text": [
      "Function f(x) = cos(x) + 1\n",
      "Begin: 0\n",
      "End: 5 * pi\n",
      "***                           *****                           *****             \n",
      "|  *                         *     *                         *     *            \n",
      "|                                                                               \n",
      "|   *                       *       *                       *       *           \n",
      "|                                                                               \n",
      "|    *                     *         *                     *         *          \n",
      "|                                                                               \n",
      "|     *                   *           *                   *           *         \n",
      "|                                                                               \n",
      "|      *                 *             *                 *             *        \n",
      "|                                                                               \n",
      "|       *               *               *               *               *       \n",
      "|                                                                               \n",
      "|        *             *                 *             *                 *      \n",
      "|                                                                               \n",
      "|         *           *                   *           *                   *     \n",
      "|                                                                               \n",
      "|          *         *                     *         *                     *    \n",
      "|                                                                               \n",
      "|           *       *                       *       *                       *   \n",
      "|                                                                               \n",
      "|            *     *                         *     *                         *  \n",
      "|             ** **                           ** **                           **\n",
      "+---------------*-------------------------------*-------------------------------\n"
     ]
    }
   ],
   "source": [
    "from math import *\n",
    "import sys\n",
    "\n",
    "width = 80\n",
    "height = 24\n",
    "\n",
    "def draw():\n",
    "    field = [[' ' for i in range(width)] for i in range(height)]\n",
    "    function = input('Function f(x) = ')\n",
    "    try:\n",
    "        begin = float(eval(input('Begin: ')))\n",
    "        end = float(eval(input('End: ')))\n",
    "    except Exception:\n",
    "        print(\"Incomprehensible expression.\", file=sys.stderr)\n",
    "        return\n",
    "    if begin >= end:\n",
    "        print(\"Wrong range.\", file=sys.stderr)\n",
    "        return\n",
    "    function = function.replace('^', '**')\n",
    "    function_values = {}\n",
    "    for i in range(width):\n",
    "        try:\n",
    "            function_values[i] = float(eval(function.replace('x', str(begin + (i / width) * (end - begin)))))\n",
    "        except ZeroDivisionError:\n",
    "            pass\n",
    "        except Exception:\n",
    "            print(\"Incomprehensible expression.\", file=sys.stderr)\n",
    "            return\n",
    "    max_value = max(function_values.values())\n",
    "    min_value = min(function_values.values())\n",
    "    y_range = max_value - min_value\n",
    "    if max_value * min_value <= 0:\n",
    "        x_axis = max_value / (max_value - min_value)\n",
    "        x_axis_position = int(x_axis * height)\n",
    "        if x_axis_position == height:\n",
    "            x_axis_position -= 1\n",
    "        field[x_axis_position][:] = '-' * width\n",
    "    if end * begin <= 0:\n",
    "        y_axis = end / (end - begin)\n",
    "        y_axis_position = int((1 - y_axis) * width)\n",
    "        if y_axis_position == width:\n",
    "            y_axis_position -= 1\n",
    "        for row in field:\n",
    "             row[y_axis_position] = '+' if row[y_axis_position] == '-' else '|'\n",
    "    for argument, value in function_values.items():\n",
    "        x = int(height - 1 - (value - min_value) / y_range * (height - 1))\n",
    "        field[x][argument] = '*'\n",
    "    for row in field:\n",
    "        print(''.join([x for x in row]))\n",
    "draw()"
   ]
  }
 ],
 "metadata": {
  "kernelspec": {
   "display_name": "Python 3",
   "language": "python",
   "name": "python3"
  },
  "language_info": {
   "codemirror_mode": {
    "name": "ipython",
    "version": 3
   },
   "file_extension": ".py",
   "mimetype": "text/x-python",
   "name": "python",
   "nbconvert_exporter": "python",
   "pygments_lexer": "ipython3",
   "version": "3.7.5"
  }
 },
 "nbformat": 4,
 "nbformat_minor": 2
}
